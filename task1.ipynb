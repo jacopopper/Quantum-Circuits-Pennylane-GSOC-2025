{
 "cells": [
  {
   "cell_type": "code",
   "execution_count": 2,
   "metadata": {},
   "outputs": [],
   "source": [
    "import pennylane as qml\n",
    "from pennylane import numpy as np"
   ]
  },
  {
   "cell_type": "code",
   "execution_count": 3,
   "metadata": {},
   "outputs": [
    {
     "name": "stdout",
     "output_type": "stream",
     "text": [
      "0: ──H─╭●──────────╭SWAP───────────┤  State\n",
      "1: ──H─╰X─╭●───────│──────RX(1.57)─┤  State\n",
      "2: ──H────╰X─╭●────│───────────────┤  State\n",
      "3: ──H───────╰X─╭●─│───────────────┤  State\n",
      "4: ──H──────────╰X─╰SWAP───────────┤  State\n"
     ]
    }
   ],
   "source": [
    "n_qubits = 5\n",
    "dev = qml.device(\"default.qubit\", wires=n_qubits)\n",
    "@qml.qnode(dev)\n",
    "\n",
    "def circuit_1():\n",
    "    \n",
    "    qml.broadcast(qml.Hadamard, pattern=\"single\", wires=range(n_qubits))\n",
    "    qml.broadcast(qml.CNOT, pattern=\"chain\", wires=range(n_qubits))\n",
    "    qml.SWAP(wires=[0, 4])\n",
    "    qml.RX(np.pi/2, wires=1)\n",
    "\n",
    "    return qml.state()\n",
    "\n",
    "print(qml.draw(circuit_1)())\n"
   ]
  },
  {
   "cell_type": "code",
   "execution_count": 8,
   "metadata": {},
   "outputs": [
    {
     "name": "stdout",
     "output_type": "stream",
     "text": [
      "0: ──H────────╭SWAP──────────┤       \n",
      "1: ──RX(1.05)─│─────╭SWAP────┤       \n",
      "2: ──H────────├SWAP─│────────┤       \n",
      "3: ──H────────│─────├SWAP────┤       \n",
      "4: ──H────────╰●────╰●─────H─┤  Probs\n"
     ]
    }
   ],
   "source": [
    "def circuit_2():\n",
    "    \n",
    "    qml.RX(np.pi/3, wires=1)\n",
    "    qml.broadcast(qml.Hadamard, pattern=\"single\", wires=[0,2,3,4])\n",
    "    qml.CSWAP(wires=[4, 0, 2])\n",
    "    qml.CSWAP(wires=[4, 1, 3])\n",
    "    qml.Hadamard(wires=4)\n",
    "    \n",
    "    return qml.probs(wires=4)\n",
    "\n",
    "print(qml.draw(circuit_2)())"
   ]
  }
 ],
 "metadata": {
  "kernelspec": {
   "display_name": "qml",
   "language": "python",
   "name": "python3"
  },
  "language_info": {
   "codemirror_mode": {
    "name": "ipython",
    "version": 3
   },
   "file_extension": ".py",
   "mimetype": "text/x-python",
   "name": "python",
   "nbconvert_exporter": "python",
   "pygments_lexer": "ipython3",
   "version": "3.12.9"
  }
 },
 "nbformat": 4,
 "nbformat_minor": 2
}
